{
 "cells": [
  {
   "cell_type": "code",
   "execution_count": 1,
   "metadata": {},
   "outputs": [],
   "source": [
    "from Bio import SeqIO\n",
    "import re\n",
    "from collections import Counter"
   ]
  },
  {
   "cell_type": "code",
   "execution_count": 2,
   "metadata": {},
   "outputs": [],
   "source": [
    "ids_cot = []\n",
    "with open('Poil_contig.fa') as file:\n",
    "    for record in SeqIO.parse(file, \"fasta\"):\n",
    "        ids_cot.append(record.id)"
   ]
  },
  {
   "cell_type": "code",
   "execution_count": 3,
   "metadata": {},
   "outputs": [],
   "source": [
    "num_cot = []\n",
    "len_cot = []\n",
    "for i in ids_cot:\n",
    "    num_cot += [i[3:i.find('_')]]\n",
    "    len_cot += [i[i.find('_')+4:i.find('cov')-1]]"
   ]
  },
  {
   "cell_type": "code",
   "execution_count": 4,
   "metadata": {
    "scrolled": true
   },
   "outputs": [
    {
     "name": "stdout",
     "output_type": "stream",
     "text": [
      "Кол-во котингов: 612\n",
      "Максимальня длинна котинга: 99324\n",
      "Общая длинна: 3924996\n"
     ]
    }
   ],
   "source": [
    "print('Кол-во котингов:',num_cot[-1])\n",
    "print('Максимальня длинна котинга:',max(len_cot))\n",
    "print('Общая длинна:',sum(map(int,len_cot)))"
   ]
  },
  {
   "cell_type": "code",
   "execution_count": 5,
   "metadata": {},
   "outputs": [],
   "source": [
    "ids_sc = []\n",
    "with open('Poil_scaffold.fa') as file:\n",
    "    for record in SeqIO.parse(file, \"fasta\"):\n",
    "        ids_sc.append(record.id)"
   ]
  },
  {
   "cell_type": "code",
   "execution_count": 6,
   "metadata": {},
   "outputs": [],
   "source": [
    "num_sc = []\n",
    "len_sc = []\n",
    "for i in ids_sc:\n",
    "    num_sc += [i[8:i.find('_')]]\n",
    "    len_sc += [i[i.find('_')+4:i.find('cov')-1]]"
   ]
  },
  {
   "cell_type": "code",
   "execution_count": 7,
   "metadata": {},
   "outputs": [
    {
     "name": "stdout",
     "output_type": "stream",
     "text": [
      "Кол-во кскафолдов: 70\n",
      "Максимальня длинна скафолдов: 3834728\n",
      "Общая длинна: 3873121\n"
     ]
    }
   ],
   "source": [
    "print('Кол-во кскафолдов:',num_sc[-1])\n",
    "print('Максимальня длинна скафолдов:',max(map(int,len_sc)))\n",
    "print('Общая длинна:',sum(map(int,len_sc)))"
   ]
  },
  {
   "cell_type": "code",
   "execution_count": 8,
   "metadata": {},
   "outputs": [],
   "source": [
    "longest_sc = []\n",
    "\n",
    "my_parse = list(SeqIO.parse('Poil_scaffold.fa', \"fasta\"))\n",
    "    \n",
    "for record in my_parse:\n",
    "    if record.id[record.id.find('_')+4:record.id.find('cov')-1] == '3834728':\n",
    "            longest_sc += [record.id]\n",
    "longest_sc_str = longest_sc[0]"
   ]
  },
  {
   "cell_type": "code",
   "execution_count": 9,
   "metadata": {
    "scrolled": true
   },
   "outputs": [
    {
     "name": "stdout",
     "output_type": "stream",
     "text": [
      "Кол-во гэпов: 1\n"
     ]
    }
   ],
   "source": [
    "longest_sc_id = longest_sc_str[8:longest_sc_str.find('_')]\n",
    "pattern = 'NNNN'\n",
    "str_seq= \"\".join(list(my_parse[int(longest_sc_id)].seq))\n",
    "print('Кол-во гэпов:',len(re.findall(pattern,str_seq)))"
   ]
  },
  {
   "cell_type": "code",
   "execution_count": 10,
   "metadata": {},
   "outputs": [
    {
     "data": {
      "text/plain": [
       "'ACGTATCACCAAGGAGCTCAATGAGCTAGGTTACCCTTGCTCACTGAATTACGTCGCTCAAATTATGGCTGAGCAAGGTATTAAGGCTAGAAATGGTAAAGGCTTTAAGTATTCAAAGAACAGCCTCACGGTGCTGAACGTTTCCGACAATCTTCTATGGCGAGATTTTTCAGCAAGTAAGCCAAATGAGAAGTGGACGACTGATATTACGTATATTTGGGTGAAGGATAAGTGGCTTTACTTGGCAACTGTGATGGATCTCTTTTCGCGTCGTATTGTCGGCTGGTCTTTGGATGAATCGATGACCGAGGCACTGGTGAAGGACGCAATACAAATGGCATTTAGCCGAAGAAAAGCGACACCTGGCTTAATAGTCCATTCTGATAGAGGGACGCAGTATCGCGCTCAAGGTTACGTTGATTACTTACGATCAAATGGTTGCCGCTTAAGTATGAGTCGCAAAGGAAACTGTTGGGATAACGCACCTATGGAATCGTTCTTCAGTCGACTAAAAGTAGAGCTGGTGTACGCGAAAAATTATAGTTCGATCGAGGAAGCGAAATCCGGTATCTTTGCTTATATTGAAATATTTTATAATCGTAAAAGAAGGCATTCGGCAAACGACGATATGAGTCCAATCGCGTTTGAGGAGAAGGCAGCAATGGCTGCATAGTTAGAGTGTCTACTTTTTATGGGGAACACCAGCTCTCTAGTGAACCTTGGATGATCTCGATGAATGGCAAATAAAAGATGATGTACTTTGCAAGTAAAGGGCTTTTCATTAGAAAGCTTGATGGAAATTCGTATGTGATTCAGGATGTTTTCGGTACATGTTCATTGCCATTTCATTCTACAGAAGAAGAGCTAAATGAGAACTCTCACAAAATTGCAAAAGTACATAAGCTCGTAACTATAGGTGTAGACTCAGAATTCCCAGACCTTTCAGACTTTAGGTGGAATGAATTAGAGCATTTTTACATAGCCCACATTGATTACGCTTTTTTGGCTTGCCTCATGAATAGAGAAGAAATTGATCGCTATAACTCTGTTGTAGGATTATTCCCTGTCGGATATCTCGAGTGCGGTTATGGGGATAGTTCGAAGTATGCCCTAGAATACATCCACAACAATTTTAAAAAACTATGTGATGATGAGAGCTTTCCTATTCAAGAACAAGATCTGGAACTGTTCTTAGTGTCTAATCAGGTTAAACGAATCTGCAACGATATTATGTCACTTGCCAGCCGATCAATATCTGCTTATACAGAACTGTTGAGATGCCATAGAAAGTGCATCGGTAAATCTTATCAAGCTATTGAGCAATTGGAATCCAAAGAAATTATTCATCGAGGAAATGATTCCTATAAAGCAGCCTCTTCAGTTACTTCACTAGTTATCTCCCTTTGCTCATCATTAGATTTATCTGCGAAGTTAACTCAATACATAAATTCAATCGACACATCCAATATTTCCTTCAAAGCTGCCAGAGACAAGCAGTATCATGAAGTTAAAAAGATAAAATCAAAACTTGTCTCAGATAAAGTGCTGAGTAACATAGTTGGTATTCAAAAGACAAATATCGACATATCCGAAATAATTCAATTTAGAAATGATCTTATACATTCAACATCTGCGATCGAGCTAGAAAAGATTTACGTAGGTATCGAAACTGATGAGATAAATGGCATGCCTTTATACTATTCCGCGCAGTACGCCCGAGATTGCTTAGATTCCGGTCAGCCCGTTAGGTTCTTGGGACGGGACTACTTCGTTGAGGGAAAGATAGATATTGAGGTTAAAGCGCTATCGTGGATACATAAGGTTATTGAATATCATATAAGTGTTGCAGAAGAAATACACTCTCATTTAATAGCGGTGAAAAAGCCTAACAAGTCAAAGCACTCGGATGGTGATCTTCCCCCGATTTAACGGACACCAACATCTAACAGATGAGGTGTCCAATGCCAAAATACACAAAGCCAAGAAAGACTTGGCAGTACTCAAATGAATTCAAAGTTAAAGCCGTTCAGTTAAGTTTGATTGAAGGTGTTCAGGTTAAAGAAGTCGCCGTTACTCTCGACATACATCCGTTTATGCTGTCACGATGGCGAAAAGAATATCGTGAAGGAAAGATCGTGGCTGATAAACGAAAAAAAGTAACTGAAGTATCTTCTAAGCAAGAGAAAGAACTCTCGAAAGTTAAGCGATTAGAAGCNNNNNNNGGAGGAACATCAGCAAGGTATCGATTCATCGAAAGATTCGGACTAGATCTGGGGATTAAATCGTTGTGCTTTTGGCTCGGTGTCTCGCGAAGTGGTTATTACGATTGGCGTAAGCGCGAAGACTCCAGCCGCACAAGTGAAGATGCACTACTAAAGATTGAAATTCAGAAAGTGTATGACAAGGTCGAAGGGCGCTACGGCAGCCCTAGAGTTTGGAAAACACTGCAAAACCAAGGATTCTGCGTCAGCAGGAAGCGTATAGCGCGCTTGATGCAAGAGATGGGCTTAATCGCGCGCGTTCTCGAGTAACCTACCGAGCACCCGGCATGAGGCGTTTCCTTGCC'"
      ]
     },
     "execution_count": 10,
     "metadata": {},
     "output_type": "execute_result"
    }
   ],
   "source": [
    "str_seq "
   ]
  },
  {
   "cell_type": "code",
   "execution_count": null,
   "metadata": {},
   "outputs": [],
   "source": []
  }
 ],
 "metadata": {
  "kernelspec": {
   "display_name": "Python 3",
   "language": "python",
   "name": "python3"
  },
  "language_info": {
   "codemirror_mode": {
    "name": "ipython",
    "version": 3
   },
   "file_extension": ".py",
   "mimetype": "text/x-python",
   "name": "python",
   "nbconvert_exporter": "python",
   "pygments_lexer": "ipython3",
   "version": "3.8.3"
  },
  "toc": {
   "base_numbering": 1,
   "nav_menu": {},
   "number_sections": true,
   "sideBar": true,
   "skip_h1_title": false,
   "title_cell": "Содержание",
   "title_sidebar": "Contents",
   "toc_cell": true,
   "toc_position": {},
   "toc_section_display": true,
   "toc_window_display": true
  }
 },
 "nbformat": 4,
 "nbformat_minor": 4
}
